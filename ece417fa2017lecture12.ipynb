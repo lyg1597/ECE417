{
 "cells": [
  {
   "cell_type": "markdown",
   "metadata": {},
   "source": [
    "# ECE 417 Lecture 12: Mixture Gaussian Models\n",
    "## Mark Hasegawa-Johnson, October 10, 2017\n",
    "This file is distributed under a <a href=\"https://creativecommons.org/licenses/by/3.0/\">CC-BY</a> license.  You may freely re-use or re-distribute the whole or any part.  If you re-distribute a non-trivial portion of it, give me credit."
   ]
  },
  {
   "cell_type": "markdown",
   "metadata": {},
   "source": [
    "## Outline of Today's lecture\n",
    "* Jupyter notebook\n",
    "* Discriminant-based classifier; Bayesian classifier\n",
    "* Downloading some example data\n",
    "* Likelihood models: Gaussian\n",
    "* Gaussian classifier\n",
    "* Likelihood models: Mixture Gaussian\n",
    "* Mixture Gaussian classifier"
   ]
  },
  {
   "cell_type": "markdown",
   "metadata": {},
   "source": [
    "## Jupyter Notebook\n",
    "* A Jupyter notebook is a document with two types of cells: code cells, and markdown cells.  \n",
    "* <strong>Code cells</strong> contain python code.  When you click \"play\" (or hit Shift-Enter), the code runs.  Results are shown immediately after the cell.  Results might include printed text, or matplotlib plots.\n",
    "* <strong>Markdown cells</strong>, like this one, contain text.  Text is formatted using wiki-style markdown.\n",
    "* The whole notebook is available on the course web page.  I strongly encourage you to download it, edit the code snippets, and re-run them, in order to get a better understanding of the lecture material."
   ]
  },
  {
   "cell_type": "markdown",
   "metadata": {},
   "source": [
    "The first thing to do is to load all of the standard python libraries that we'll need."
   ]
  },
  {
   "cell_type": "code",
   "execution_count": 1,
   "metadata": {
    "collapsed": true
   },
   "outputs": [],
   "source": [
    "import matplotlib.pyplot as plt\n",
    "import numpy as np\n",
    "import scipy.stats as stats\n",
    "import requests\n",
    "%matplotlib inline"
   ]
  },
  {
   "cell_type": "markdown",
   "metadata": {},
   "source": [
    "## Discriminant-based classifiers: all classifiers can be written this way\n",
    "* A classifier reads in a sample, $\\vec{x}$, and tries to determine what label to give it.  Let's assume that $\\vec{x}$ is a\n",
    "$D$-dimensional real vector, so we can write $$\\vec{x}\\in\\Re^D$$.\n",
    "* Usually the label is an integer, $y$.  For example, if there are $C$ different classes, then we can say that $$y\\in\\left\\{0,1,\\ldots,C-1\\right\\}$$.\n",
    "* Any classifier can be summarized by a set of discriminant function $g_y(\\vec{x})$.  The The discriminant function $g_y(\\vec{x})$ takes a datum, and produces a real-valued score.\n",
    "* Given a particular input $\\vec{x}$, the classifier tries each discriminant function, one after the other,\n",
    "and outputs whichever label has the best score.\n",
    "$$\\hat{y}=\\arg\\max_y g_y(\\vec{x})$$\n",
    "where the notation $\\hat{y}$ means \"the value of y chosen by the classifier.\"\n",
    "* So, for example, suppose that there are only two classes: $y=0$ and $y=1$.  Then the classifier would have the \n",
    "following decision rule:\n",
    "$$\\hat{y}=\\left\\{\\begin{array}{ll} 1 & g_1(\\vec{x}) > g_0(\\vec{x})\\\\\n",
    "  0 & \\mbox{otherwise}\\end{array}\\right.$$\n",
    "\n"
   ]
  },
  {
   "cell_type": "markdown",
   "metadata": {},
   "source": [
    "## Bayesian classifiers: If the discriminant is a monotonic function of p(y|x)\n",
    "A Bayesian classifier (also known as a MAP classifier, also known as a minimum-probability-of-error or MPE classifier) is one\n",
    "for which the discriminant function is the posterior probability of $y$ given $\\vec{x}$:\n",
    "$$\\mbox{one possibility:}~~~g_y(\\vec{x}) = p_{Y|X}(y|\\vec{x})$$\n",
    "... or any monotonic function of that.  \n",
    "\n",
    "For example, from the definition of conditional probability, we get\n",
    "$$\\hat{y}=\\arg\\max_y p_{Y|X}(y|\\vec{x}) = \\arg\\max_y\\frac{p_{X,Y}(\\vec{x},y)}{p_X(\\vec{x})}\n",
    "=\\arg\\max_y p_{X,Y}(\\vec{x},y)$$\n",
    "so instead of using the posterior probability as the discriminant function, we could use the joint probability\n",
    "\n",
    "$$\\mbox{another possibility that gives the same result:}~~~g_y(\\vec{x})=p_{X,Y}(\\vec{x},y)$$\n",
    "\n",
    "On the other hand, logarithm is a monotonic function, so\n",
    "$$\\hat{y}=\\arg\\max_y p_{X,Y}(\\vec{x},y) = \\arg\\max_y \\ln p_{X,Y}(\\vec{x},y)$$\n",
    "so we could use\n",
    "$$\\mbox{yet another possibility that gives the same result:}~~~g_y(\\vec{x})=\\ln p_{X,Y}(\\vec{x},y)$$\n",
    "\n",
    "It's particularly useful to divide that into the prior probability $p_Y(y)$, and the likelihood $p_{X|Y}(\\vec{x}|y)$.  The reason it's useful: because $p_Y(y)$ is just a lookup table, and $p_{X|Y}(\\vec{x}|y)$ is often much, much easier to learn from data than is $p_{Y|X}(y|\\vec{x})$.  Thus we often want to use this discriminant:\n",
    "\n",
    "$$\\mbox{This one usually is easiest to compute and use:}~~~g_y(\\vec{x})=\\ln p_Y(y) + \\ln p_{X|Y}(\\vec{x}|y)$$"
   ]
  },
  {
   "cell_type": "markdown",
   "metadata": {
    "collapsed": true
   },
   "source": [
    "# Bayesian classifiers: terminology\n",
    "You need to know these four terms.  If $\\vec{x}$ is the observation and $y$ is the class label, then\n",
    "* Posterior: $p_{Y|X}(y|\\vec{x})$          ----- probability of a class given a feature,pmf depending on x, estimate using knn\n",
    "* Likelihood: $p_{X|Y}(\\vec{x}|y)$          ----- probability of a feature given a class, multiply likelyhood to prior to get postetrior\n",
    "* Prior: $p_Y(y)$          ---- probability of class\n",
    "* Evidence: $p_X(\\vec{x})$          ----- probability of feature"
   ]
  },
  {
   "cell_type": "markdown",
   "metadata": {},
   "source": [
    "# Downloading some example data\n",
    "So let's talk about how to estimate the likelihood function.  First, let's get some data.  Here I'll download the \"Iris\" dataset, which is the one that Fisher used in the paper where he invented linear discriminant analysis."
   ]
  },
  {
   "cell_type": "code",
   "execution_count": 5,
   "metadata": {
    "collapsed": false
   },
   "outputs": [
    {
     "data": {
      "text/plain": [
       "[['5.1', '3.5', '1.4', '0.2', 'Iris-setosa'],\n",
       " ['4.9', '3.0', '1.4', '0.2', 'Iris-setosa'],\n",
       " ['4.7', '3.2', '1.3', '0.2', 'Iris-setosa'],\n",
       " ['4.6', '3.1', '1.5', '0.2', 'Iris-setosa'],\n",
       " ['5.0', '3.6', '1.4', '0.2', 'Iris-setosa'],\n",
       " ['5.4', '3.9', '1.7', '0.4', 'Iris-setosa'],\n",
       " ['4.6', '3.4', '1.4', '0.3', 'Iris-setosa'],\n",
       " ['5.0', '3.4', '1.5', '0.2', 'Iris-setosa'],\n",
       " ['4.4', '2.9', '1.4', '0.2', 'Iris-setosa'],\n",
       " ['4.9', '3.1', '1.5', '0.1', 'Iris-setosa'],\n",
       " ['5.4', '3.7', '1.5', '0.2', 'Iris-setosa'],\n",
       " ['4.8', '3.4', '1.6', '0.2', 'Iris-setosa'],\n",
       " ['4.8', '3.0', '1.4', '0.1', 'Iris-setosa'],\n",
       " ['4.3', '3.0', '1.1', '0.1', 'Iris-setosa'],\n",
       " ['5.8', '4.0', '1.2', '0.2', 'Iris-setosa'],\n",
       " ['5.7', '4.4', '1.5', '0.4', 'Iris-setosa'],\n",
       " ['5.4', '3.9', '1.3', '0.4', 'Iris-setosa'],\n",
       " ['5.1', '3.5', '1.4', '0.3', 'Iris-setosa'],\n",
       " ['5.7', '3.8', '1.7', '0.3', 'Iris-setosa'],\n",
       " ['5.1', '3.8', '1.5', '0.3', 'Iris-setosa'],\n",
       " ['5.4', '3.4', '1.7', '0.2', 'Iris-setosa'],\n",
       " ['5.1', '3.7', '1.5', '0.4', 'Iris-setosa'],\n",
       " ['4.6', '3.6', '1.0', '0.2', 'Iris-setosa'],\n",
       " ['5.1', '3.3', '1.7', '0.5', 'Iris-setosa'],\n",
       " ['4.8', '3.4', '1.9', '0.2', 'Iris-setosa'],\n",
       " ['5.0', '3.0', '1.6', '0.2', 'Iris-setosa'],\n",
       " ['5.0', '3.4', '1.6', '0.4', 'Iris-setosa'],\n",
       " ['5.2', '3.5', '1.5', '0.2', 'Iris-setosa'],\n",
       " ['5.2', '3.4', '1.4', '0.2', 'Iris-setosa'],\n",
       " ['4.7', '3.2', '1.6', '0.2', 'Iris-setosa'],\n",
       " ['4.8', '3.1', '1.6', '0.2', 'Iris-setosa'],\n",
       " ['5.4', '3.4', '1.5', '0.4', 'Iris-setosa'],\n",
       " ['5.2', '4.1', '1.5', '0.1', 'Iris-setosa'],\n",
       " ['5.5', '4.2', '1.4', '0.2', 'Iris-setosa'],\n",
       " ['4.9', '3.1', '1.5', '0.1', 'Iris-setosa'],\n",
       " ['5.0', '3.2', '1.2', '0.2', 'Iris-setosa'],\n",
       " ['5.5', '3.5', '1.3', '0.2', 'Iris-setosa'],\n",
       " ['4.9', '3.1', '1.5', '0.1', 'Iris-setosa'],\n",
       " ['4.4', '3.0', '1.3', '0.2', 'Iris-setosa'],\n",
       " ['5.1', '3.4', '1.5', '0.2', 'Iris-setosa'],\n",
       " ['5.0', '3.5', '1.3', '0.3', 'Iris-setosa'],\n",
       " ['4.5', '2.3', '1.3', '0.3', 'Iris-setosa'],\n",
       " ['4.4', '3.2', '1.3', '0.2', 'Iris-setosa'],\n",
       " ['5.0', '3.5', '1.6', '0.6', 'Iris-setosa'],\n",
       " ['5.1', '3.8', '1.9', '0.4', 'Iris-setosa'],\n",
       " ['4.8', '3.0', '1.4', '0.3', 'Iris-setosa'],\n",
       " ['5.1', '3.8', '1.6', '0.2', 'Iris-setosa'],\n",
       " ['4.6', '3.2', '1.4', '0.2', 'Iris-setosa'],\n",
       " ['5.3', '3.7', '1.5', '0.2', 'Iris-setosa'],\n",
       " ['5.0', '3.3', '1.4', '0.2', 'Iris-setosa'],\n",
       " ['7.0', '3.2', '4.7', '1.4', 'Iris-versicolor'],\n",
       " ['6.4', '3.2', '4.5', '1.5', 'Iris-versicolor'],\n",
       " ['6.9', '3.1', '4.9', '1.5', 'Iris-versicolor'],\n",
       " ['5.5', '2.3', '4.0', '1.3', 'Iris-versicolor'],\n",
       " ['6.5', '2.8', '4.6', '1.5', 'Iris-versicolor'],\n",
       " ['5.7', '2.8', '4.5', '1.3', 'Iris-versicolor'],\n",
       " ['6.3', '3.3', '4.7', '1.6', 'Iris-versicolor'],\n",
       " ['4.9', '2.4', '3.3', '1.0', 'Iris-versicolor'],\n",
       " ['6.6', '2.9', '4.6', '1.3', 'Iris-versicolor'],\n",
       " ['5.2', '2.7', '3.9', '1.4', 'Iris-versicolor'],\n",
       " ['5.0', '2.0', '3.5', '1.0', 'Iris-versicolor'],\n",
       " ['5.9', '3.0', '4.2', '1.5', 'Iris-versicolor'],\n",
       " ['6.0', '2.2', '4.0', '1.0', 'Iris-versicolor'],\n",
       " ['6.1', '2.9', '4.7', '1.4', 'Iris-versicolor'],\n",
       " ['5.6', '2.9', '3.6', '1.3', 'Iris-versicolor'],\n",
       " ['6.7', '3.1', '4.4', '1.4', 'Iris-versicolor'],\n",
       " ['5.6', '3.0', '4.5', '1.5', 'Iris-versicolor'],\n",
       " ['5.8', '2.7', '4.1', '1.0', 'Iris-versicolor'],\n",
       " ['6.2', '2.2', '4.5', '1.5', 'Iris-versicolor'],\n",
       " ['5.6', '2.5', '3.9', '1.1', 'Iris-versicolor'],\n",
       " ['5.9', '3.2', '4.8', '1.8', 'Iris-versicolor'],\n",
       " ['6.1', '2.8', '4.0', '1.3', 'Iris-versicolor'],\n",
       " ['6.3', '2.5', '4.9', '1.5', 'Iris-versicolor'],\n",
       " ['6.1', '2.8', '4.7', '1.2', 'Iris-versicolor'],\n",
       " ['6.4', '2.9', '4.3', '1.3', 'Iris-versicolor'],\n",
       " ['6.6', '3.0', '4.4', '1.4', 'Iris-versicolor'],\n",
       " ['6.8', '2.8', '4.8', '1.4', 'Iris-versicolor'],\n",
       " ['6.7', '3.0', '5.0', '1.7', 'Iris-versicolor'],\n",
       " ['6.0', '2.9', '4.5', '1.5', 'Iris-versicolor'],\n",
       " ['5.7', '2.6', '3.5', '1.0', 'Iris-versicolor'],\n",
       " ['5.5', '2.4', '3.8', '1.1', 'Iris-versicolor'],\n",
       " ['5.5', '2.4', '3.7', '1.0', 'Iris-versicolor'],\n",
       " ['5.8', '2.7', '3.9', '1.2', 'Iris-versicolor'],\n",
       " ['6.0', '2.7', '5.1', '1.6', 'Iris-versicolor'],\n",
       " ['5.4', '3.0', '4.5', '1.5', 'Iris-versicolor'],\n",
       " ['6.0', '3.4', '4.5', '1.6', 'Iris-versicolor'],\n",
       " ['6.7', '3.1', '4.7', '1.5', 'Iris-versicolor'],\n",
       " ['6.3', '2.3', '4.4', '1.3', 'Iris-versicolor'],\n",
       " ['5.6', '3.0', '4.1', '1.3', 'Iris-versicolor'],\n",
       " ['5.5', '2.5', '4.0', '1.3', 'Iris-versicolor'],\n",
       " ['5.5', '2.6', '4.4', '1.2', 'Iris-versicolor'],\n",
       " ['6.1', '3.0', '4.6', '1.4', 'Iris-versicolor'],\n",
       " ['5.8', '2.6', '4.0', '1.2', 'Iris-versicolor'],\n",
       " ['5.0', '2.3', '3.3', '1.0', 'Iris-versicolor'],\n",
       " ['5.6', '2.7', '4.2', '1.3', 'Iris-versicolor'],\n",
       " ['5.7', '3.0', '4.2', '1.2', 'Iris-versicolor'],\n",
       " ['5.7', '2.9', '4.2', '1.3', 'Iris-versicolor'],\n",
       " ['6.2', '2.9', '4.3', '1.3', 'Iris-versicolor'],\n",
       " ['5.1', '2.5', '3.0', '1.1', 'Iris-versicolor'],\n",
       " ['5.7', '2.8', '4.1', '1.3', 'Iris-versicolor'],\n",
       " ['6.3', '3.3', '6.0', '2.5', 'Iris-virginica'],\n",
       " ['5.8', '2.7', '5.1', '1.9', 'Iris-virginica'],\n",
       " ['7.1', '3.0', '5.9', '2.1', 'Iris-virginica'],\n",
       " ['6.3', '2.9', '5.6', '1.8', 'Iris-virginica'],\n",
       " ['6.5', '3.0', '5.8', '2.2', 'Iris-virginica'],\n",
       " ['7.6', '3.0', '6.6', '2.1', 'Iris-virginica'],\n",
       " ['4.9', '2.5', '4.5', '1.7', 'Iris-virginica'],\n",
       " ['7.3', '2.9', '6.3', '1.8', 'Iris-virginica'],\n",
       " ['6.7', '2.5', '5.8', '1.8', 'Iris-virginica'],\n",
       " ['7.2', '3.6', '6.1', '2.5', 'Iris-virginica'],\n",
       " ['6.5', '3.2', '5.1', '2.0', 'Iris-virginica'],\n",
       " ['6.4', '2.7', '5.3', '1.9', 'Iris-virginica'],\n",
       " ['6.8', '3.0', '5.5', '2.1', 'Iris-virginica'],\n",
       " ['5.7', '2.5', '5.0', '2.0', 'Iris-virginica'],\n",
       " ['5.8', '2.8', '5.1', '2.4', 'Iris-virginica'],\n",
       " ['6.4', '3.2', '5.3', '2.3', 'Iris-virginica'],\n",
       " ['6.5', '3.0', '5.5', '1.8', 'Iris-virginica'],\n",
       " ['7.7', '3.8', '6.7', '2.2', 'Iris-virginica'],\n",
       " ['7.7', '2.6', '6.9', '2.3', 'Iris-virginica'],\n",
       " ['6.0', '2.2', '5.0', '1.5', 'Iris-virginica'],\n",
       " ['6.9', '3.2', '5.7', '2.3', 'Iris-virginica'],\n",
       " ['5.6', '2.8', '4.9', '2.0', 'Iris-virginica'],\n",
       " ['7.7', '2.8', '6.7', '2.0', 'Iris-virginica'],\n",
       " ['6.3', '2.7', '4.9', '1.8', 'Iris-virginica'],\n",
       " ['6.7', '3.3', '5.7', '2.1', 'Iris-virginica'],\n",
       " ['7.2', '3.2', '6.0', '1.8', 'Iris-virginica'],\n",
       " ['6.2', '2.8', '4.8', '1.8', 'Iris-virginica'],\n",
       " ['6.1', '3.0', '4.9', '1.8', 'Iris-virginica'],\n",
       " ['6.4', '2.8', '5.6', '2.1', 'Iris-virginica'],\n",
       " ['7.2', '3.0', '5.8', '1.6', 'Iris-virginica'],\n",
       " ['7.4', '2.8', '6.1', '1.9', 'Iris-virginica'],\n",
       " ['7.9', '3.8', '6.4', '2.0', 'Iris-virginica'],\n",
       " ['6.4', '2.8', '5.6', '2.2', 'Iris-virginica'],\n",
       " ['6.3', '2.8', '5.1', '1.5', 'Iris-virginica'],\n",
       " ['6.1', '2.6', '5.6', '1.4', 'Iris-virginica'],\n",
       " ['7.7', '3.0', '6.1', '2.3', 'Iris-virginica'],\n",
       " ['6.3', '3.4', '5.6', '2.4', 'Iris-virginica'],\n",
       " ['6.4', '3.1', '5.5', '1.8', 'Iris-virginica'],\n",
       " ['6.0', '3.0', '4.8', '1.8', 'Iris-virginica'],\n",
       " ['6.9', '3.1', '5.4', '2.1', 'Iris-virginica'],\n",
       " ['6.7', '3.1', '5.6', '2.4', 'Iris-virginica'],\n",
       " ['6.9', '3.1', '5.1', '2.3', 'Iris-virginica'],\n",
       " ['5.8', '2.7', '5.1', '1.9', 'Iris-virginica'],\n",
       " ['6.8', '3.2', '5.9', '2.3', 'Iris-virginica'],\n",
       " ['6.7', '3.3', '5.7', '2.5', 'Iris-virginica'],\n",
       " ['6.7', '3.0', '5.2', '2.3', 'Iris-virginica'],\n",
       " ['6.3', '2.5', '5.0', '1.9', 'Iris-virginica'],\n",
       " ['6.5', '3.0', '5.2', '2.0', 'Iris-virginica'],\n",
       " ['6.2', '3.4', '5.4', '2.3', 'Iris-virginica'],\n",
       " ['5.9', '3.0', '5.1', '1.8', 'Iris-virginica'],\n",
       " [''],\n",
       " ['']]"
      ]
     },
     "execution_count": 5,
     "metadata": {},
     "output_type": "execute_result"
    }
   ],
   "source": [
    "# Download data from the UCI repository\n",
    "r=requests.get('http://archive.ics.uci.edu/ml/machine-learning-databases/iris/iris.data')\n",
    "# Split at every newline; split each line at commas\n",
    "dataset = [ x.split(',') for x in r.text.split('\\n') ]\n",
    "dataset\n"
   ]
  },
  {
   "cell_type": "code",
   "execution_count": 6,
   "metadata": {
    "collapsed": false
   },
   "outputs": [
    {
     "data": {
      "text/plain": [
       "<matplotlib.text.Text at 0x1f98b9ad940>"
      ]
     },
     "execution_count": 6,
     "metadata": {},
     "output_type": "execute_result"
    },
    {
     "data": {
      "image/png": "[encoded data removed]",
      "text/plain": [
       "<matplotlib.figure.Figure at 0x1f98b9a9550>"
      ]
     },
     "metadata": {},
     "output_type": "display_data"
    }
   ],
   "source": [
    "# Get a dictionary from labels t indices, and back again\n",
    "label2class = { 'Iris-setosa':0, 'Iris-versicolor':1, 'Iris-virginica':2 }\n",
    "class2label = { 0:'Iris-setosa', 1:'Iris-versicolor', 2:'Iris-virginica' }\n",
    "# Read out a list of the class labels, convert to integers\n",
    "Y = [ label2class[x[4]] for x in dataset if len(x)==5 ]\n",
    "# Plot the class labels of each token\n",
    "plt.bar(range(0,len(Y)),Y)\n",
    "plt.title('Class labels of all of the tokens')\n",
    "plt.xlabel('Token number')\n",
    "plt.ylabel('Class label')"
   ]
  },
  {
   "cell_type": "code",
   "execution_count": 7,
   "metadata": {
    "collapsed": false
   },
   "outputs": [
    {
     "data": {
      "text/plain": [
       "(150, 4)"
      ]
     },
     "execution_count": 7,
     "metadata": {},
     "output_type": "execute_result"
    }
   ],
   "source": [
    "# Create a numpy arrays for each data subset\n",
    "X = np.array([ x[0:4] for x in dataset if len(x)==5 ], dtype='float64')\n",
    "X.shape"
   ]
  },
  {
   "cell_type": "code",
   "execution_count": 8,
   "metadata": {
    "collapsed": false
   },
   "outputs": [
    {
     "data": {
      "text/plain": [
       "<matplotlib.text.Text at 0x1f98bc08e80>"
      ]
     },
     "execution_count": 8,
     "metadata": {},
     "output_type": "execute_result"
    },
    {
     "data": {
      "image/png": "[encoded data removed]",
      "text/plain": [
       "<matplotlib.figure.Figure at 0x1f98b9fd978>"
      ]
     },
     "metadata": {},
     "output_type": "display_data"
    }
   ],
   "source": [
    "# Plot a scatter plot of the three classes, so we can see how well they separate in the first two dimensions\n",
    "plt.plot(X[0:50,0],X[0:50,1],'x',X[50:100,0],X[50:100,1],'o',\n",
    "        X[100:150,0],X[100:150,1],'^')\n",
    "plt.title('Scatter plot of the three classes, in the first two dimensions')\n",
    "plt.xlabel('Dimension 0')\n",
    "plt.ylabel('Dimension 1')"
   ]
  },
  {
   "cell_type": "markdown",
   "metadata": {},
   "source": [
    "# Likelihood models: Gaussian\n",
    "Now let's build a Gaussian model of each of those classes, and see how well it fits."
   ]
  },
  {
   "cell_type": "code",
   "execution_count": 10,
   "metadata": {
    "collapsed": false
   },
   "outputs": [
    {
     "name": "stdout",
     "output_type": "stream",
     "text": [
      "[ 5.006  3.418  1.464  0.244]\n",
      "[ 5.936  2.77   4.26   1.326]\n",
      "[ 6.588  2.974  5.552  2.026]\n"
     ]
    },
    {
     "data": {
      "text/plain": [
       "[<matplotlib.lines.Line2D at 0x1f98ce66ba8>,\n",
       " <matplotlib.lines.Line2D at 0x1f98cdb5b00>,\n",
       " <matplotlib.lines.Line2D at 0x1f98ce6e6d8>]"
      ]
     },
     "execution_count": 10,
     "metadata": {},
     "output_type": "execute_result"
    },
    {
     "data": {
      "image/png": "[encoded data removed]",
      "text/plain": [
       "<matplotlib.figure.Figure at 0x1f98cde3898>"
      ]
     },
     "metadata": {},
     "output_type": "display_data"
    }
   ],
   "source": [
    "# Compute the mean of each class.  axis=0 means to compute the average row vector \n",
    "mu0 = np.mean(X[0:50,:],axis=0)\n",
    "mu1 = np.mean(X[50:100,:],axis=0)\n",
    "mu2 = np.mean(X[100:150,:],axis=0)\n",
    "print(mu0)\n",
    "print(mu1)\n",
    "print(mu2)\n",
    "plt.plot(mu0[0],mu0[1],'x',mu1[0],mu1[1],'o',mu2[0],mu2[1],'^')"
   ]
  },
  {
   "cell_type": "code",
   "execution_count": 11,
   "metadata": {
    "collapsed": false
   },
   "outputs": [
    {
     "data": {
      "text/plain": [
       "[array([[ 0.12424898,  0.10029796,  0.01613878,  0.01054694],\n",
       "        [ 0.10029796,  0.14517959,  0.01168163,  0.01143673],\n",
       "        [ 0.01613878,  0.01168163,  0.03010612,  0.00569796],\n",
       "        [ 0.01054694,  0.01143673,  0.00569796,  0.01149388]]),\n",
       " array([[ 0.26643265,  0.08518367,  0.18289796,  0.05577959],\n",
       "        [ 0.08518367,  0.09846939,  0.08265306,  0.04120408],\n",
       "        [ 0.18289796,  0.08265306,  0.22081633,  0.07310204],\n",
       "        [ 0.05577959,  0.04120408,  0.07310204,  0.03910612]]),\n",
       " array([[ 0.40434286,  0.09376327,  0.3032898 ,  0.04909388],\n",
       "        [ 0.09376327,  0.10400408,  0.07137959,  0.04762857],\n",
       "        [ 0.3032898 ,  0.07137959,  0.30458776,  0.04882449],\n",
       "        [ 0.04909388,  0.04762857,  0.04882449,  0.07543265]])]"
      ]
     },
     "execution_count": 11,
     "metadata": {},
     "output_type": "execute_result"
    }
   ],
   "source": [
    "# Compute the covariance of each class.\n",
    "Sig0 = np.cov(X[0:50,:],rowvar=False)\n",
    "Sig1 = np.cov(X[50:100,:],rowvar=False)\n",
    "Sig2 = np.cov(X[100:150,:],rowvar=False)\n",
    "[ Sig0, Sig1, Sig2 ]"
   ]
  },
  {
   "cell_type": "code",
   "execution_count": 12,
   "metadata": {
    "collapsed": false
   },
   "outputs": [
    {
     "data": {
      "text/plain": [
       "(400, 250, 2)"
      ]
     },
     "execution_count": 12,
     "metadata": {},
     "output_type": "execute_result"
    }
   ],
   "source": [
    "# Create a coordinate system on which we can calculate the Gaussian pdf\n",
    "x0coords, x1coords = np.mgrid[4:8:0.01,2:4.5:0.01]\n",
    "# Combine x0coords and x1coords into an array that we can use in the plt.contourf function\n",
    "# ... this syntax is copied from the scipy.stats.multivariate_normal web page\n",
    "coords = np.empty(x0coords.shape + (2,))\n",
    "coords[:,:,0] = x0coords\n",
    "coords[:,:,1] = x1coords\n",
    "coords.shape"
   ]
  },
  {
   "cell_type": "code",
   "execution_count": 15,
   "metadata": {
    "collapsed": false
   },
   "outputs": [
    {
     "data": {
      "text/plain": [
       "<matplotlib.text.Text at 0x1f98db8def0>"
      ]
     },
     "execution_count": 15,
     "metadata": {},
     "output_type": "execute_result"
    },
    {
     "data": {
      "image/png": "[encoded data removed]",
      "text/plain": [
       "<matplotlib.figure.Figure at 0x1f98db5e9b0>"
      ]
     },
     "metadata": {},
     "output_type": "display_data"
    }
   ],
   "source": [
    "# Calculate the Gaussian pdfs at the same set of points\n",
    "pdf0 = stats.multivariate_normal(mu0[0:2],Sig0[0:2,0:2]).pdf(coords)\n",
    "pdf1 = stats.multivariate_normal(mu1[0:2],Sig1[0:2,0:2]).pdf(coords)\n",
    "pdf2 = stats.multivariate_normal(mu2[0:2],Sig2[0:2,0:2]).pdf(coords)\n",
    "plt.contourf(x0coords,x1coords,pdf0)\n",
    "plt.title('Contour plot of the Gaussian model for class 0')"
   ]
  },
  {
   "cell_type": "code",
   "execution_count": 16,
   "metadata": {
    "collapsed": false
   },
   "outputs": [
    {
     "data": {
      "text/plain": [
       "<matplotlib.text.Text at 0x1f98dc3c9e8>"
      ]
     },
     "execution_count": 16,
     "metadata": {},
     "output_type": "execute_result"
    },
    {
     "data": {
      "image/png": "[encoded data removed]",
      "text/plain": [
       "<matplotlib.figure.Figure at 0x1f98b33c668>"
      ]
     },
     "metadata": {},
     "output_type": "display_data"
    }
   ],
   "source": [
    "# Show contour plot of the maximum of all three classes\n",
    "maxpdf = np.maximum(pdf0,np.maximum(pdf1,pdf2))\n",
    "plt.contourf(x0coords,x1coords,maxpdf)\n",
    "plt.title('Maximum of the three likelihood functions')"
   ]
  },
  {
   "cell_type": "markdown",
   "metadata": {
    "collapsed": true
   },
   "source": [
    "# Gaussian classifier\n",
    "A Gaussian classifier is just a Bayesian classifier, with a Gaussian pdf.\n",
    "\n",
    "Remember that a Bayesian classifier means that\n",
    "$$\\hat{y} = \\arg\\max_y \\ln p_Y(y)+\\ln p_{X|Y}(\\vec{x}|y)$$\n",
    "\n",
    "A Gaussian classifier is one in which $p_{X|Y}(\\vec{x}|y)$ is Gaussian:\n",
    "$$p_{X|Y}(\\vec{x}|y)={\\mathcal N}(\\vec{x};\\vec{\\mu}_y,\\Sigma_y)$$\n",
    "\n",
    "Suppose that all of the classes have equal priors, $p_Y(y)=\\frac{1}{3}$ for the cases of three classes.  Then the Gaussian classifier is just \n",
    "$$\\hat{y} = \\arg\\max_y {\\mathcal N}(\\vec{x};\\vec{\\mu}_y,\\Sigma_y)$$"
   ]
  },
  {
   "cell_type": "code",
   "execution_count": 17,
   "metadata": {
    "collapsed": false
   },
   "outputs": [
    {
     "data": {
      "text/plain": [
       "<matplotlib.text.Text at 0x1f98dcec080>"
      ]
     },
     "execution_count": 17,
     "metadata": {},
     "output_type": "execute_result"
    },
    {
     "data": {
      "image/png": "[encoded data removed]",
      "text/plain": [
       "<matplotlib.figure.Figure at 0x1f98b9f06a0>"
      ]
     },
     "metadata": {},
     "output_type": "display_data"
    }
   ],
   "source": [
    "# Find the (x0,x1) coordinates for which class 0 is the best choice\n",
    "yhat_is_0 = (pdf0 == maxpdf)\n",
    "yhat_is_1 = (pdf1 == maxpdf)\n",
    "yhat_is_2 = (pdf2 == maxpdf)\n",
    "yhat = yhat_is_1 + 2*yhat_is_2\n",
    "# Now let's plot that\n",
    "plt.contourf(x0coords,x1coords,yhat)\n",
    "plt.title('Classifier output, yhat, plotted as a function of x')"
   ]
  },
  {
   "cell_type": "markdown",
   "metadata": {
    "collapsed": true
   },
   "source": [
    "### Check our results: Gaussian borders must be quadratic\n",
    "\n",
    "Remember that the Gaussian pdf is given by \n",
    "$$\\hat{y} = \\arg\\max p_{X|Y}(\\vec{x}|y) = \\arg\\max \\ln p_{X|Y}(\\vec{x}|y)$$\n",
    "\n",
    "But the logarithm of a Gaussian is a quadratic function of $\\vec{x}$:\n",
    "$$\\ln p_{X|Y}(\\vec{x}|y) = -d_\\Sigma^2(\\vec{x},\\vec{\\mu}_y) + \\mbox{constant}$$\n",
    "\n",
    "So the boundary between any two classes, in a Gaussian classifier, needs to be either a straight line, or a quadratic.\n",
    "\n",
    "For example, the boundary between class 0 and class 1 is the set of points such that the mahalanobis distance between class 0 and class 1 are equal plus some constants. Close to a knn classifiyer, but use mahalanobis distance instead of euclidiean distance to the nearest mean."
   ]
  },
  {
   "cell_type": "markdown",
   "metadata": {
    "collapsed": true
   },
   "source": [
    "# Likelihood models: Gaussian mixture model (GMM)"
   ]
  },
  {
   "cell_type": "markdown",
   "metadata": {
    "collapsed": true
   },
   "source": [
    "So, notice that pdf2 is looking elliptical here, even though the data distribution wasn't really very elliptical.  Let's analyze that a little more carefully, by drawing a scatter plot of the same data on top of the countour plot."
   ]
  },
  {
   "cell_type": "code",
   "execution_count": 18,
   "metadata": {
    "collapsed": false
   },
   "outputs": [
    {
     "name": "stderr",
     "output_type": "stream",
     "text": [
      "C:\\ProgramData\\Anaconda3\\lib\\site-packages\\ipykernel_launcher.py:2: MatplotlibDeprecationWarning: pyplot.hold is deprecated.\n",
      "    Future behavior will be consistent with the long-time default:\n",
      "    plot commands add elements without first clearing the\n",
      "    Axes and/or Figure.\n",
      "  \n",
      "C:\\ProgramData\\Anaconda3\\lib\\site-packages\\matplotlib\\__init__.py:917: UserWarning: axes.hold is deprecated. Please remove it from your matplotlibrc and/or style files.\n",
      "  warnings.warn(self.msg_depr_set % key)\n",
      "C:\\ProgramData\\Anaconda3\\lib\\site-packages\\matplotlib\\rcsetup.py:152: UserWarning: axes.hold is deprecated, will be removed in 3.0\n",
      "  warnings.warn(\"axes.hold is deprecated, will be removed in 3.0\")\n"
     ]
    },
    {
     "data": {
      "text/plain": [
       "[<matplotlib.lines.Line2D at 0x1f98ed945c0>]"
      ]
     },
     "execution_count": 18,
     "metadata": {},
     "output_type": "execute_result"
    },
    {
     "data": {
      "image/png": "[encoded data removed]",
      "text/plain": [
       "<matplotlib.figure.Figure at 0x1f98dbdd5f8>"
      ]
     },
     "metadata": {},
     "output_type": "display_data"
    }
   ],
   "source": [
    "plt.contourf(x0coords,x1coords,pdf2)\n",
    "plt.hold(True)\n",
    "plt.plot(X[100:150,0],X[100:150,1],'g^')"
   ]
  },
  {
   "cell_type": "markdown",
   "metadata": {},
   "source": [
    "# GMM definition\n",
    "A GMM models the likelihood of each class as the weighted sum of $K$ different Gaussians, like this:\n",
    "$$p_{X|Y}(\\vec{x}|y) = \\sum_{k=1}^K c_k {\\mathcal N}(\\vec{x};\\vec\\mu_{yk},\\Sigma_{yk})$$\n",
    "\n",
    "Notice that we've increased the number of parameters by a factor of $K$.  A Gaussian model has just one $D\\times D$ covariance matrix per class.  A GMM has $K$ of them.  There are two possible solutions to avoid parameter overload:\n",
    "* Make $K$ small, or\n",
    "* Make the covariance matrix diagonal\n",
    "In this lecture I'll use the first solution, and just set $K=2$ Gaussians per class.  In the real world, though, people are more likely to use the second solution --- to set $K$ to a pretty big number, and then to use diagonal covariance matrices."
   ]
  },
  {
   "cell_type": "markdown",
   "metadata": {
    "collapsed": true
   },
   "source": [
    "### Constraints on the mixture weights\n",
    "Here are some facts you know about pdfs in general:\n",
    "* They must be non-negative, i.e., $p_X(\\vec{x})\\ge 0$ for all $\\vec{x}$.\n",
    "* They must integrate to 1.0, i.e., $$\\int p_X(\\vec{x})d\\vec{x}=1$$\n",
    "\n",
    "The Gaussian is a valid pdf.  That means that these things are true for a Gaussian:\n",
    "$${\\mathcal N}(\\vec{x};\\vec\\mu,\\Sigma)\\ge 0,~~~\\mbox{and}~~~\\int {\\mathcal N}(\\vec{x};\\vec\\mu,\\Sigma)d\\vec{x}=$$\n",
    "\n",
    "Since these things are already true for each of the Gaussians separately, making them true for the GMM is simple.  We just have to choose the right mixture weights, $c_k$.  In fact, the rules are easy:\n",
    "* The mixture weights have to be non-negative, $c_k\\ge 0$\n",
    "* The mixture weights have to sum to one: $$\\sum_{k=1}^K c_k = 1$$"
   ]
  },
  {
   "cell_type": "markdown",
   "metadata": {
    "collapsed": true
   },
   "source": [
    "### Constraints on the covariance matrices\n",
    "The covariance matrix has to be positive semi-definite, meaning that it has to have all non-negative eigenvalues.\n",
    "\n",
    "In fact, a positive-semidefinite covariance matrix is kind of hard to deal with --- it's better if you keep it positive definite, instead.  This can be done by finding the eigenvalues, then if there are any zero-valued eigenvalues, just add a small constant to each one.  Usually people add a constant somewhere between 0.01 and 0.001, then check to see if their results make sense."
   ]
  },
  {
   "cell_type": "markdown",
   "metadata": {},
   "source": [
    "## Learning a GMM from data\n",
    "OK, the title of this slide is a lie.  I'm not going to tell you, yet, how to learn a GMM from data.  I'll tell you about that in the next lecture.\n",
    "\n",
    "For now, let's just look at the scatter plot for class $y=2$, the Iris-virginica class.  Notice that you could draw an ellipse around all the data points with $x_0<6.8$, and you could draw another ellipse around all the data points with $x_0>6.8$.  So let's arbitrarily divide the data into those two halves, and find the mean and covariance of each of those two half-datasets.\n",
    "\n",
    "WARNING: this is not the way you should ever train a GMM in practice.  You'll learn a much better method in the next lecture."
   ]
  },
  {
   "cell_type": "code",
   "execution_count": 21,
   "metadata": {
    "collapsed": false
   },
   "outputs": [
    {
     "data": {
      "text/plain": [
       "<matplotlib.text.Text at 0x1f98ef60da0>"
      ]
     },
     "execution_count": 21,
     "metadata": {},
     "output_type": "execute_result"
    },
    {
     "data": {
      "image/png": "[encoded data removed]",
      "text/plain": [
       "<matplotlib.figure.Figure at 0x1f98ef29828>"
      ]
     },
     "metadata": {},
     "output_type": "display_data"
    }
   ],
   "source": [
    "# Arbitrarily split the class-2 data into two halves, at the threshold x0=6.8\n",
    "class2 = X[100:150,:]\n",
    "class2_left = class2[class2[:,0] <= 6.8,:]\n",
    "class2_right = class2[class2[:,0] > 6.8,:]\n",
    "plt.plot(class2_left[:,0],class2_left[:,1],'x',class2_right[:,0],class2_right[:,1],'^')\n",
    "plt.title('Scatter plot of class 2 data: left half as x, right half as ^')"
   ]
  },
  {
   "cell_type": "code",
   "execution_count": 31,
   "metadata": {
    "collapsed": false
   },
   "outputs": [
    {
     "data": {
      "text/plain": [
       "[[0.7, 0.3],\n",
       " array([ 6.25714286,  2.90857143,  5.30857143,  2.        ]),\n",
       " array([ 7.36      ,  3.12666667,  6.12      ,  2.08666667])]"
      ]
     },
     "execution_count": 31,
     "metadata": {},
     "output_type": "execute_result"
    }
   ],
   "source": [
    "# Now we'll estimate the mixture weights, mean, and covariance of the Gaussians on the left half and right half\n",
    "c_2_0 = class2_left.shape[0]/class2.shape[0]\n",
    "c_2_1 = class2_right.shape[0]/class2.shape[0]\n",
    "# mu_2_0 = np.mean(class2_left[:,0:2],axis=0)\n",
    "# mu_2_1 = np.mean(class2_right[:,0:2],axis=0)\n",
    "# Sig_2_0 = np.cov(class2_left[:,0:2],rowvar=False)\n",
    "# Sig_2_1 = np.cov(class2_right[:,0:2],rowvar=False)\n",
    "mu_2_0 = np.mean(class2_left,axis=0)\n",
    "mu_2_1 = np.mean(class2_right,axis=0)\n",
    "Sig_2_0 = np.cov(class2_left,rowvar=False)\n",
    "Sig_2_1 = np.cov(class2_right,rowvar=False)\n",
    "# Just as a check, print the mixture weights, and the two mean vectors\n",
    "[ [c_2_0, c_2_1], mu_2_0, mu_2_1 ]"
   ]
  },
  {
   "cell_type": "code",
   "execution_count": 32,
   "metadata": {
    "collapsed": false
   },
   "outputs": [
    {
     "data": {
      "text/plain": [
       "<matplotlib.text.Text at 0x1f98f5d5320>"
      ]
     },
     "execution_count": 32,
     "metadata": {},
     "output_type": "execute_result"
    },
    {
     "data": {
      "image/png": "[encoded data removed]",
      "text/plain": [
       "<matplotlib.figure.Figure at 0x1f98f47a6d8>"
      ]
     },
     "metadata": {},
     "output_type": "display_data"
    }
   ],
   "source": [
    "# Now let's calculate the GMM model of class 2\n",
    "gaussian_2_0 = stats.multivariate_normal(mu_2_0[0:2],Sig_2_0[0:2,0:2]).pdf(coords)\n",
    "gaussian_2_1 = stats.multivariate_normal(mu_2_1[0:2],Sig_2_1[0:2,0:2]).pdf(coords)\n",
    "gmm_pdf2 = c_2_0*gaussian_2_0 + c_2_1*gaussian_2_1\n",
    "# And let's plot its contour plot\n",
    "plt.contourf(x0coords,x1coords,gmm_pdf2)\n",
    "plt.title('Gaussian Mixture Model of the class Iris-virginica, class y=2')"
   ]
  },
  {
   "cell_type": "markdown",
   "metadata": {},
   "source": [
    "# GMM Classifier\n",
    "A GMM classifier is a Bayesian classifier in which one or more of the classes has a GMM likelihood function.\n",
    "\n",
    "So the classification function is\n",
    "$$\\hat{y}=\\arg\\max_y p_Y(y)p_{X|Y}(\\vec{x},y)$$\n",
    "\n",
    "where $p_{X|Y}(\\vec{x}|y)$ is a GMM for at least one of the classes."
   ]
  },
  {
   "cell_type": "code",
   "execution_count": 33,
   "metadata": {
    "collapsed": false
   },
   "outputs": [
    {
     "data": {
      "text/plain": [
       "<matplotlib.text.Text at 0x1f98f6810f0>"
      ]
     },
     "execution_count": 33,
     "metadata": {},
     "output_type": "execute_result"
    },
    {
     "data": {
      "image/png": "[encoded data removed]",
      "text/plain": [
       "<matplotlib.figure.Figure at 0x1f98f6003c8>"
      ]
     },
     "metadata": {},
     "output_type": "display_data"
    }
   ],
   "source": [
    "# Let's try creating a classifier.\n",
    "# We'll use Gaussian models for classes 0 and 1, \n",
    "# and a GMM for class 2\n",
    "maxpdf = np.maximum(pdf0,np.maximum(pdf1,gmm_pdf2))\n",
    "yhat_using_gmm = (pdf1==maxpdf) + 2*(gmm_pdf2==maxpdf)\n",
    "plt.contourf(x0coords,x1coords,yhat_using_gmm)\n",
    "plt.title('Classification function: Classes 0 and 1 are Gaussian, Class 2 is GMM')"
   ]
  },
  {
   "cell_type": "markdown",
   "metadata": {},
   "source": [
    "### Check our results: GMM boundaries don't need to be quadratic!!\n",
    "Remember that in a Gaussian classifier, the border between any two classes needs to be quadratic or linear.  In a GMM classifier, that's no longer true.  Roughly speaking, the border can have as many wiggles as the GMM has Gaussians."
   ]
  }
 ],
 "metadata": {
  "kernelspec": {
   "display_name": "Python 3",
   "language": "python",
   "name": "python3"
  },
  "language_info": {
   "codemirror_mode": {
    "name": "ipython",
    "version": 3
   },
   "file_extension": ".py",
   "mimetype": "text/x-python",
   "name": "python",
   "nbconvert_exporter": "python",
   "pygments_lexer": "ipython3",
   "version": "3.6.0"
  }
 },
 "nbformat": 4,
 "nbformat_minor": 2
}
